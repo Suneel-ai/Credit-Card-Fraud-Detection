{
  "nbformat": 4,
  "nbformat_minor": 0,
  "metadata": {
    "accelerator": "GPU",
    "colab": {
      "name": "Credit Card Farud Detection.ipynb",
      "provenance": [],
      "collapsed_sections": []
    },
    "kernelspec": {
      "display_name": "Python 3",
      "language": "python",
      "name": "python3"
    },
    "language_info": {
      "codemirror_mode": {
        "name": "ipython",
        "version": 3
      },
      "file_extension": ".py",
      "mimetype": "text/x-python",
      "name": "python",
      "nbconvert_exporter": "python",
      "pygments_lexer": "ipython3",
      "version": "3.6.9"
    }
  },
  "cells": [
    {
      "cell_type": "code",
      "metadata": {
        "colab": {
          "base_uri": "https://localhost:8080/"
        },
        "id": "dblwqrZ-ix_w",
        "outputId": "9b2b752d-0fa8-4f65-b476-9a9ac6ba7632"
      },
      "source": [
        "from google.colab import drive\n",
        "drive.mount('/content/drive')"
      ],
      "execution_count": 1,
      "outputs": [
        {
          "output_type": "stream",
          "text": [
            "Mounted at /content/drive\n"
          ],
          "name": "stdout"
        }
      ]
    },
    {
      "cell_type": "code",
      "metadata": {
        "id": "-RSx0jW3gtUa"
      },
      "source": [
        "import warnings\n",
        "warnings.filterwarnings('ignore')\n",
        "import numpy as np\n",
        "from matplotlib import pyplot as plt\n",
        "import pandas as pd\n",
        "import seaborn as sns\n",
        "from sklearn.metrics import classification_report,accuracy_score,confusion_matrix,roc_auc_score,f1_score\n",
        "from sklearn.ensemble import RandomForestClassifier\n",
        "from sklearn.preprocessing import StandardScaler\n",
        "from sklearn.model_selection import  StratifiedKFold,train_test_split,cross_val_score,cross_validate\n",
        "from imblearn.over_sampling import RandomOverSampler,SMOTE\n",
        "from imblearn.pipeline import make_pipeline\n",
        "import xgboost as xgb\n",
        "import tensorflow as tf\n",
        "from tensorflow.keras import layers\n",
        "plt.style.use(['dark_background'])"
      ],
      "execution_count": 2,
      "outputs": []
    },
    {
      "cell_type": "code",
      "metadata": {
        "colab": {
          "base_uri": "https://localhost:8080/",
          "height": 35
        },
        "id": "6_m8PY34Y1PS",
        "outputId": "8bcd4289-101f-4df9-f671-e8c04a8b6b09"
      },
      "source": [
        "tf.test.gpu_device_name() "
      ],
      "execution_count": 3,
      "outputs": [
        {
          "output_type": "execute_result",
          "data": {
            "application/vnd.google.colaboratory.intrinsic+json": {
              "type": "string"
            },
            "text/plain": [
              "'/device:GPU:0'"
            ]
          },
          "metadata": {
            "tags": []
          },
          "execution_count": 3
        }
      ]
    },
    {
      "cell_type": "code",
      "metadata": {
        "colab": {
          "base_uri": "https://localhost:8080/",
          "height": 224
        },
        "id": "UFnOXBBUgtVz",
        "outputId": "241e7f49-c54a-43e4-c8b7-cdc5d06be763"
      },
      "source": [
        "df=pd.read_csv('/content/drive/MyDrive/Colab Notebooks/creditcard.csv')\n",
        "df.head()"
      ],
      "execution_count": 4,
      "outputs": [
        {
          "output_type": "execute_result",
          "data": {
            "text/html": [
              "<div>\n",
              "<style scoped>\n",
              "    .dataframe tbody tr th:only-of-type {\n",
              "        vertical-align: middle;\n",
              "    }\n",
              "\n",
              "    .dataframe tbody tr th {\n",
              "        vertical-align: top;\n",
              "    }\n",
              "\n",
              "    .dataframe thead th {\n",
              "        text-align: right;\n",
              "    }\n",
              "</style>\n",
              "<table border=\"1\" class=\"dataframe\">\n",
              "  <thead>\n",
              "    <tr style=\"text-align: right;\">\n",
              "      <th></th>\n",
              "      <th>Time</th>\n",
              "      <th>V1</th>\n",
              "      <th>V2</th>\n",
              "      <th>V3</th>\n",
              "      <th>V4</th>\n",
              "      <th>V5</th>\n",
              "      <th>V6</th>\n",
              "      <th>V7</th>\n",
              "      <th>V8</th>\n",
              "      <th>V9</th>\n",
              "      <th>V10</th>\n",
              "      <th>V11</th>\n",
              "      <th>V12</th>\n",
              "      <th>V13</th>\n",
              "      <th>V14</th>\n",
              "      <th>V15</th>\n",
              "      <th>V16</th>\n",
              "      <th>V17</th>\n",
              "      <th>V18</th>\n",
              "      <th>V19</th>\n",
              "      <th>V20</th>\n",
              "      <th>V21</th>\n",
              "      <th>V22</th>\n",
              "      <th>V23</th>\n",
              "      <th>V24</th>\n",
              "      <th>V25</th>\n",
              "      <th>V26</th>\n",
              "      <th>V27</th>\n",
              "      <th>V28</th>\n",
              "      <th>Amount</th>\n",
              "      <th>Class</th>\n",
              "    </tr>\n",
              "  </thead>\n",
              "  <tbody>\n",
              "    <tr>\n",
              "      <th>0</th>\n",
              "      <td>0.0</td>\n",
              "      <td>-1.359807</td>\n",
              "      <td>-0.072781</td>\n",
              "      <td>2.536347</td>\n",
              "      <td>1.378155</td>\n",
              "      <td>-0.338321</td>\n",
              "      <td>0.462388</td>\n",
              "      <td>0.239599</td>\n",
              "      <td>0.098698</td>\n",
              "      <td>0.363787</td>\n",
              "      <td>0.090794</td>\n",
              "      <td>-0.551600</td>\n",
              "      <td>-0.617801</td>\n",
              "      <td>-0.991390</td>\n",
              "      <td>-0.311169</td>\n",
              "      <td>1.468177</td>\n",
              "      <td>-0.470401</td>\n",
              "      <td>0.207971</td>\n",
              "      <td>0.025791</td>\n",
              "      <td>0.403993</td>\n",
              "      <td>0.251412</td>\n",
              "      <td>-0.018307</td>\n",
              "      <td>0.277838</td>\n",
              "      <td>-0.110474</td>\n",
              "      <td>0.066928</td>\n",
              "      <td>0.128539</td>\n",
              "      <td>-0.189115</td>\n",
              "      <td>0.133558</td>\n",
              "      <td>-0.021053</td>\n",
              "      <td>149.62</td>\n",
              "      <td>0</td>\n",
              "    </tr>\n",
              "    <tr>\n",
              "      <th>1</th>\n",
              "      <td>0.0</td>\n",
              "      <td>1.191857</td>\n",
              "      <td>0.266151</td>\n",
              "      <td>0.166480</td>\n",
              "      <td>0.448154</td>\n",
              "      <td>0.060018</td>\n",
              "      <td>-0.082361</td>\n",
              "      <td>-0.078803</td>\n",
              "      <td>0.085102</td>\n",
              "      <td>-0.255425</td>\n",
              "      <td>-0.166974</td>\n",
              "      <td>1.612727</td>\n",
              "      <td>1.065235</td>\n",
              "      <td>0.489095</td>\n",
              "      <td>-0.143772</td>\n",
              "      <td>0.635558</td>\n",
              "      <td>0.463917</td>\n",
              "      <td>-0.114805</td>\n",
              "      <td>-0.183361</td>\n",
              "      <td>-0.145783</td>\n",
              "      <td>-0.069083</td>\n",
              "      <td>-0.225775</td>\n",
              "      <td>-0.638672</td>\n",
              "      <td>0.101288</td>\n",
              "      <td>-0.339846</td>\n",
              "      <td>0.167170</td>\n",
              "      <td>0.125895</td>\n",
              "      <td>-0.008983</td>\n",
              "      <td>0.014724</td>\n",
              "      <td>2.69</td>\n",
              "      <td>0</td>\n",
              "    </tr>\n",
              "    <tr>\n",
              "      <th>2</th>\n",
              "      <td>1.0</td>\n",
              "      <td>-1.358354</td>\n",
              "      <td>-1.340163</td>\n",
              "      <td>1.773209</td>\n",
              "      <td>0.379780</td>\n",
              "      <td>-0.503198</td>\n",
              "      <td>1.800499</td>\n",
              "      <td>0.791461</td>\n",
              "      <td>0.247676</td>\n",
              "      <td>-1.514654</td>\n",
              "      <td>0.207643</td>\n",
              "      <td>0.624501</td>\n",
              "      <td>0.066084</td>\n",
              "      <td>0.717293</td>\n",
              "      <td>-0.165946</td>\n",
              "      <td>2.345865</td>\n",
              "      <td>-2.890083</td>\n",
              "      <td>1.109969</td>\n",
              "      <td>-0.121359</td>\n",
              "      <td>-2.261857</td>\n",
              "      <td>0.524980</td>\n",
              "      <td>0.247998</td>\n",
              "      <td>0.771679</td>\n",
              "      <td>0.909412</td>\n",
              "      <td>-0.689281</td>\n",
              "      <td>-0.327642</td>\n",
              "      <td>-0.139097</td>\n",
              "      <td>-0.055353</td>\n",
              "      <td>-0.059752</td>\n",
              "      <td>378.66</td>\n",
              "      <td>0</td>\n",
              "    </tr>\n",
              "    <tr>\n",
              "      <th>3</th>\n",
              "      <td>1.0</td>\n",
              "      <td>-0.966272</td>\n",
              "      <td>-0.185226</td>\n",
              "      <td>1.792993</td>\n",
              "      <td>-0.863291</td>\n",
              "      <td>-0.010309</td>\n",
              "      <td>1.247203</td>\n",
              "      <td>0.237609</td>\n",
              "      <td>0.377436</td>\n",
              "      <td>-1.387024</td>\n",
              "      <td>-0.054952</td>\n",
              "      <td>-0.226487</td>\n",
              "      <td>0.178228</td>\n",
              "      <td>0.507757</td>\n",
              "      <td>-0.287924</td>\n",
              "      <td>-0.631418</td>\n",
              "      <td>-1.059647</td>\n",
              "      <td>-0.684093</td>\n",
              "      <td>1.965775</td>\n",
              "      <td>-1.232622</td>\n",
              "      <td>-0.208038</td>\n",
              "      <td>-0.108300</td>\n",
              "      <td>0.005274</td>\n",
              "      <td>-0.190321</td>\n",
              "      <td>-1.175575</td>\n",
              "      <td>0.647376</td>\n",
              "      <td>-0.221929</td>\n",
              "      <td>0.062723</td>\n",
              "      <td>0.061458</td>\n",
              "      <td>123.50</td>\n",
              "      <td>0</td>\n",
              "    </tr>\n",
              "    <tr>\n",
              "      <th>4</th>\n",
              "      <td>2.0</td>\n",
              "      <td>-1.158233</td>\n",
              "      <td>0.877737</td>\n",
              "      <td>1.548718</td>\n",
              "      <td>0.403034</td>\n",
              "      <td>-0.407193</td>\n",
              "      <td>0.095921</td>\n",
              "      <td>0.592941</td>\n",
              "      <td>-0.270533</td>\n",
              "      <td>0.817739</td>\n",
              "      <td>0.753074</td>\n",
              "      <td>-0.822843</td>\n",
              "      <td>0.538196</td>\n",
              "      <td>1.345852</td>\n",
              "      <td>-1.119670</td>\n",
              "      <td>0.175121</td>\n",
              "      <td>-0.451449</td>\n",
              "      <td>-0.237033</td>\n",
              "      <td>-0.038195</td>\n",
              "      <td>0.803487</td>\n",
              "      <td>0.408542</td>\n",
              "      <td>-0.009431</td>\n",
              "      <td>0.798278</td>\n",
              "      <td>-0.137458</td>\n",
              "      <td>0.141267</td>\n",
              "      <td>-0.206010</td>\n",
              "      <td>0.502292</td>\n",
              "      <td>0.219422</td>\n",
              "      <td>0.215153</td>\n",
              "      <td>69.99</td>\n",
              "      <td>0</td>\n",
              "    </tr>\n",
              "  </tbody>\n",
              "</table>\n",
              "</div>"
            ],
            "text/plain": [
              "   Time        V1        V2        V3  ...       V27       V28  Amount  Class\n",
              "0   0.0 -1.359807 -0.072781  2.536347  ...  0.133558 -0.021053  149.62      0\n",
              "1   0.0  1.191857  0.266151  0.166480  ... -0.008983  0.014724    2.69      0\n",
              "2   1.0 -1.358354 -1.340163  1.773209  ... -0.055353 -0.059752  378.66      0\n",
              "3   1.0 -0.966272 -0.185226  1.792993  ...  0.062723  0.061458  123.50      0\n",
              "4   2.0 -1.158233  0.877737  1.548718  ...  0.219422  0.215153   69.99      0\n",
              "\n",
              "[5 rows x 31 columns]"
            ]
          },
          "metadata": {
            "tags": []
          },
          "execution_count": 4
        }
      ]
    },
    {
      "cell_type": "code",
      "metadata": {
        "colab": {
          "base_uri": "https://localhost:8080/"
        },
        "id": "3QOfjBhrgtXy",
        "outputId": "80808fce-a564-4dc4-a526-4a03d9ddc45a"
      },
      "source": [
        "df.shape"
      ],
      "execution_count": null,
      "outputs": [
        {
          "output_type": "execute_result",
          "data": {
            "text/plain": [
              "(284807, 31)"
            ]
          },
          "metadata": {
            "tags": []
          },
          "execution_count": 5
        }
      ]
    },
    {
      "cell_type": "code",
      "metadata": {
        "colab": {
          "base_uri": "https://localhost:8080/"
        },
        "id": "0WIqXt56gtYU",
        "outputId": "14c8762e-4c2b-41ed-b741-956ace91632b"
      },
      "source": [
        "df.info()"
      ],
      "execution_count": null,
      "outputs": [
        {
          "output_type": "stream",
          "text": [
            "<class 'pandas.core.frame.DataFrame'>\n",
            "RangeIndex: 284807 entries, 0 to 284806\n",
            "Data columns (total 31 columns):\n",
            " #   Column  Non-Null Count   Dtype  \n",
            "---  ------  --------------   -----  \n",
            " 0   Time    284807 non-null  float64\n",
            " 1   V1      284807 non-null  float64\n",
            " 2   V2      284807 non-null  float64\n",
            " 3   V3      284807 non-null  float64\n",
            " 4   V4      284807 non-null  float64\n",
            " 5   V5      284807 non-null  float64\n",
            " 6   V6      284807 non-null  float64\n",
            " 7   V7      284807 non-null  float64\n",
            " 8   V8      284807 non-null  float64\n",
            " 9   V9      284807 non-null  float64\n",
            " 10  V10     284807 non-null  float64\n",
            " 11  V11     284807 non-null  float64\n",
            " 12  V12     284807 non-null  float64\n",
            " 13  V13     284807 non-null  float64\n",
            " 14  V14     284807 non-null  float64\n",
            " 15  V15     284807 non-null  float64\n",
            " 16  V16     284807 non-null  float64\n",
            " 17  V17     284807 non-null  float64\n",
            " 18  V18     284807 non-null  float64\n",
            " 19  V19     284807 non-null  float64\n",
            " 20  V20     284807 non-null  float64\n",
            " 21  V21     284807 non-null  float64\n",
            " 22  V22     284807 non-null  float64\n",
            " 23  V23     284807 non-null  float64\n",
            " 24  V24     284807 non-null  float64\n",
            " 25  V25     284807 non-null  float64\n",
            " 26  V26     284807 non-null  float64\n",
            " 27  V27     284807 non-null  float64\n",
            " 28  V28     284807 non-null  float64\n",
            " 29  Amount  284807 non-null  float64\n",
            " 30  Class   284807 non-null  int64  \n",
            "dtypes: float64(30), int64(1)\n",
            "memory usage: 67.4 MB\n"
          ],
          "name": "stdout"
        }
      ]
    },
    {
      "cell_type": "code",
      "metadata": {
        "colab": {
          "base_uri": "https://localhost:8080/"
        },
        "id": "n9VWBPv-gtZf",
        "outputId": "f56ed42a-145c-4864-c4a3-60fd3ecb5069"
      },
      "source": [
        "not_fraud=(df['Class'].value_counts()[0]/len(df))*100\n",
        "fraud=(df['Class'].value_counts()[1]/len(df))*100\n",
        "print(f'Not Fraud: {not_fraud:.2f}% of dataset')\n",
        "print(f'Fraud: {fraud:.2f}% of dataset')"
      ],
      "execution_count": null,
      "outputs": [
        {
          "output_type": "stream",
          "text": [
            "Not Fraud: 99.83% of dataset\n",
            "Fraud: 0.17% of dataset\n"
          ],
          "name": "stdout"
        }
      ]
    },
    {
      "cell_type": "code",
      "metadata": {
        "colab": {
          "base_uri": "https://localhost:8080/",
          "height": 312
        },
        "id": "s-a5rRxvgtZ5",
        "outputId": "e629479a-14d3-48fb-ca6d-dbf59f342f46"
      },
      "source": [
        "sns.countplot('Class',data=df)\n",
        "plt.title('Class Distributions of Frauds(1) and Not frauds(0)')"
      ],
      "execution_count": null,
      "outputs": [
        {
          "output_type": "execute_result",
          "data": {
            "text/plain": [
              "Text(0.5, 1.0, 'Class Distributions of Frauds(1) and Not frauds(0)')"
            ]
          },
          "metadata": {
            "tags": []
          },
          "execution_count": 40
        },
        {
          "output_type": "display_data",
          "data": {
            "image/png": "[encoded data removed]",
            "text/plain": [
              "<Figure size 432x288 with 1 Axes>"
            ]
          },
          "metadata": {
            "tags": []
          }
        }
      ]
    },
    {
      "cell_type": "code",
      "metadata": {
        "colab": {
          "base_uri": "https://localhost:8080/",
          "height": 296
        },
        "id": "-aYtPj9Xgta-",
        "outputId": "045ada66-1221-4c6e-8f40-219546d62d4e"
      },
      "source": [
        "sns.distplot(df['Amount'])"
      ],
      "execution_count": null,
      "outputs": [
        {
          "output_type": "execute_result",
          "data": {
            "text/plain": [
              "<matplotlib.axes._subplots.AxesSubplot at 0x7f77f6741e48>"
            ]
          },
          "metadata": {
            "tags": []
          },
          "execution_count": 39
        },
        {
          "output_type": "display_data",
          "data": {
            "image/png": "[encoded data removed]",
            "text/plain": [
              "<Figure size 432x288 with 1 Axes>"
            ]
          },
          "metadata": {
            "tags": []
          }
        }
      ]
    },
    {
      "cell_type": "code",
      "metadata": {
        "colab": {
          "base_uri": "https://localhost:8080/",
          "height": 298
        },
        "id": "xnFFeTsNgtbu",
        "outputId": "cfa634eb-2c6a-446d-ca4c-7eab600d6ea6"
      },
      "source": [
        "sns.histplot(df['Time'])"
      ],
      "execution_count": null,
      "outputs": [
        {
          "output_type": "execute_result",
          "data": {
            "text/plain": [
              "<matplotlib.axes._subplots.AxesSubplot at 0x7f5884066f60>"
            ]
          },
          "metadata": {
            "tags": []
          },
          "execution_count": 10
        },
        {
          "output_type": "display_data",
          "data": {
            "image/png": "[encoded data removed]",
            "text/plain": [
              "<Figure size 432x288 with 1 Axes>"
            ]
          },
          "metadata": {
            "tags": []
          }
        }
      ]
    },
    {
      "cell_type": "markdown",
      "metadata": {
        "id": "-Rm7yvNIgtc0"
      },
      "source": [
        "**Scaling Amount and time features**"
      ]
    },
    {
      "cell_type": "code",
      "metadata": {
        "id": "psXdWQ88gtc2"
      },
      "source": [
        "scaler=StandardScaler()\n",
        "df['Time']=scaler.fit_transform(df['Time'].values.reshape(-1,1))\n",
        "df['Amount']=scaler.fit_transform(df['Amount'].values.reshape(-1,1))"
      ],
      "execution_count": 10,
      "outputs": []
    },
    {
      "cell_type": "markdown",
      "metadata": {
        "id": "j19GWmBcgtdK"
      },
      "source": [
        "**Data Spliting**"
      ]
    },
    {
      "cell_type": "code",
      "metadata": {
        "id": "FtoV4v5Znwpa"
      },
      "source": [
        "#Randomly suffling data\n",
        "df=df.sample(frac=1)"
      ],
      "execution_count": 6,
      "outputs": []
    },
    {
      "cell_type": "code",
      "metadata": {
        "id": "Kq8E4o0Qgtdc"
      },
      "source": [
        "x=df.iloc[:,0:30].values\n",
        "y=df.iloc[:, 30:].values\n",
        "x_train,x_test,y_train,y_test=train_test_split(x,y,test_size=0.3)\n",
        "y_train=np.ravel(y_train)"
      ],
      "execution_count": 11,
      "outputs": []
    },
    {
      "cell_type": "code",
      "metadata": {
        "colab": {
          "base_uri": "https://localhost:8080/"
        },
        "id": "KonKQ7pXgtec",
        "outputId": "41ad4f1b-163b-487c-ee58-3ee4dc2c16d0"
      },
      "source": [
        "pd.DataFrame(y_train).value_counts()"
      ],
      "execution_count": 13,
      "outputs": [
        {
          "output_type": "execute_result",
          "data": {
            "text/plain": [
              "0    199006\n",
              "1       358\n",
              "dtype: int64"
            ]
          },
          "metadata": {
            "tags": []
          },
          "execution_count": 13
        }
      ]
    },
    {
      "cell_type": "code",
      "metadata": {
        "colab": {
          "base_uri": "https://localhost:8080/"
        },
        "id": "iXNDnBpXgtfA",
        "outputId": "d162c1b6-46cc-468e-c301-717cabba0a1d"
      },
      "source": [
        "pd.DataFrame(y_test).value_counts()"
      ],
      "execution_count": 12,
      "outputs": [
        {
          "output_type": "execute_result",
          "data": {
            "text/plain": [
              "0    85309\n",
              "1      134\n",
              "dtype: int64"
            ]
          },
          "metadata": {
            "tags": []
          },
          "execution_count": 12
        }
      ]
    },
    {
      "cell_type": "markdown",
      "metadata": {
        "id": "pGgxYrFXgthc"
      },
      "source": [
        "# Random OverSampling"
      ]
    },
    {
      "cell_type": "markdown",
      "metadata": {
        "id": "aKed1k5UjvyT"
      },
      "source": [
        "**It is the process of randamly duplicating sample/rows of Minority classes!**\n"
      ]
    },
    {
      "cell_type": "code",
      "metadata": {
        "id": "3XcStTcugthd"
      },
      "source": [
        "#sampling strategy of 0.6 means making  no of rows/sample of minoririty class 60%  of majority class\n",
        "OverSampler=RandomOverSampler(sampling_strategy=0.6)\n",
        "os_x_train,os_y_train=OverSampler.fit_resample(x_train,y_train)"
      ],
      "execution_count": 14,
      "outputs": []
    },
    {
      "cell_type": "code",
      "metadata": {
        "colab": {
          "base_uri": "https://localhost:8080/"
        },
        "id": "-UIo88GXgtiO",
        "outputId": "9d11a87b-92a9-42c8-dde4-2240423b37b8"
      },
      "source": [
        "pd.DataFrame(os_y_train).value_counts()"
      ],
      "execution_count": 15,
      "outputs": [
        {
          "output_type": "execute_result",
          "data": {
            "text/plain": [
              "0    199006\n",
              "1    119403\n",
              "dtype: int64"
            ]
          },
          "metadata": {
            "tags": []
          },
          "execution_count": 15
        }
      ]
    },
    {
      "cell_type": "markdown",
      "metadata": {
        "id": "Np95eXtagtil"
      },
      "source": [
        "# SMOTE(Synthetic Minority Over-sampling Technique)\n"
      ]
    },
    {
      "cell_type": "markdown",
      "metadata": {
        "id": "53UoFO1dlNnI"
      },
      "source": [
        "**It is the process of genrating data for miniority classes!** "
      ]
    },
    {
      "cell_type": "code",
      "metadata": {
        "id": "hYtW2uQigtin"
      },
      "source": [
        "#sampling strategy of 0.6 means making  no of rows/sample of minoririty class 60%  of majority class\n",
        "smote=SMOTE(sampling_strategy=0.6)\n",
        "sm_x_train,sm_y_train=smote.fit_resample(x_train,y_train)"
      ],
      "execution_count": 16,
      "outputs": []
    },
    {
      "cell_type": "code",
      "metadata": {
        "colab": {
          "base_uri": "https://localhost:8080/"
        },
        "id": "ZKYAgTo3gtjU",
        "outputId": "9f9c3a23-288f-495a-8a75-e8289b70761b"
      },
      "source": [
        "pd.DataFrame(sm_y_train).value_counts()"
      ],
      "execution_count": 17,
      "outputs": [
        {
          "output_type": "execute_result",
          "data": {
            "text/plain": [
              "0    199006\n",
              "1    119403\n",
              "dtype: int64"
            ]
          },
          "metadata": {
            "tags": []
          },
          "execution_count": 17
        }
      ]
    },
    {
      "cell_type": "markdown",
      "metadata": {
        "id": "xI2Wl4Khgtjn"
      },
      "source": [
        "# Model Building"
      ]
    },
    {
      "cell_type": "markdown",
      "metadata": {
        "id": "8qBg_CijGaTS"
      },
      "source": [
        "***We want model to decrease False Negatives (Predcting Fraud as not Fraud) as much as possible. But we also want to make sure there is less False Positive(predicting Not fraud as Fraud) too!***"
      ]
    },
    {
      "cell_type": "code",
      "metadata": {
        "id": "ZDlSYN9mgtkR"
      },
      "source": [
        "def model_report(y_test,y_pred):\n",
        "    print(f'----Confusion matrix---- \\n \\n{confusion_matrix(y_test,y_pred)}\\n')\n",
        "    print(f'Roc_Auc Score : {roc_auc_score(y_test,y_pred)}\\n')\n",
        "    print(classification_report(y_test,y_pred))"
      ],
      "execution_count": 18,
      "outputs": []
    },
    {
      "cell_type": "code",
      "metadata": {
        "id": "q14c2GrfupVM"
      },
      "source": [
        "def cross_validation(estimator,cv=StratifiedKFold()):\n",
        "  #To make sure result given by the model is just by a chance of train_test_split or not\n",
        "  scores=cross_validate(estimator,x,np.ravel(y),cv=cv,scoring=['f1','recall'],n_jobs=-1)  \n",
        "  f1_scores=scores['test_f1']\n",
        "  recall=scores['test_recall']\n",
        "  print(f'F1 Scores: {f1_scores}')\n",
        "  print(f'Avg F1 Score:{f1_scores.mean()}\\n')\n",
        "\n",
        "  print(f'Recall: {recall}')\n",
        "  print(f'Avg Recall Score:{recall.mean()}')"
      ],
      "execution_count": 25,
      "outputs": []
    },
    {
      "cell_type": "markdown",
      "metadata": {
        "id": "MIU6Md4Ugtli"
      },
      "source": [
        "# Random Forest Classfier"
      ]
    },
    {
      "cell_type": "markdown",
      "metadata": {
        "id": "IBRikuKyxZ7n"
      },
      "source": [
        "**In Orginal Data**"
      ]
    },
    {
      "cell_type": "code",
      "metadata": {
        "colab": {
          "base_uri": "https://localhost:8080/"
        },
        "id": "SR_HI2Nlgtl0",
        "outputId": "8157bd3b-3962-499c-840d-3bbde1df49a7"
      },
      "source": [
        "rf_classfier=RandomForestClassifier(class_weight='balanced_subsample',n_jobs=-1)\n",
        "rf_classfier.fit(x_train,y_train)\n",
        "y_pred=rf_classfier.predict(x_test)\n",
        "model_report(y_test, y_pred)"
      ],
      "execution_count": 23,
      "outputs": [
        {
          "output_type": "stream",
          "text": [
            "----Confusion matrix---- \n",
            " \n",
            "[[85305     4]\n",
            " [   29   105]]\n",
            "\n",
            "Roc_Auc Score : 0.8917676005908635\n",
            "\n",
            "              precision    recall  f1-score   support\n",
            "\n",
            "           0       1.00      1.00      1.00     85309\n",
            "           1       0.96      0.78      0.86       134\n",
            "\n",
            "    accuracy                           1.00     85443\n",
            "   macro avg       0.98      0.89      0.93     85443\n",
            "weighted avg       1.00      1.00      1.00     85443\n",
            "\n"
          ],
          "name": "stdout"
        }
      ]
    },
    {
      "cell_type": "code",
      "metadata": {
        "colab": {
          "base_uri": "https://localhost:8080/"
        },
        "id": "rb-GKnmvBaQo",
        "outputId": "f621d155-7ad3-407e-e158-521494c3d24b"
      },
      "source": [
        "cross_validation(RandomForestClassifier())"
      ],
      "execution_count": 26,
      "outputs": [
        {
          "output_type": "stream",
          "text": [
            "F1 Scores: [0.84745763 0.84269663 0.89010989 0.8603352  0.84090909]\n",
            "Avg F1 Score:0.8563016865763668\n",
            "\n",
            "Recall: [0.75757576 0.75757576 0.82653061 0.78571429 0.75510204]\n",
            "Avg Recall Score:0.7764996907854049\n"
          ],
          "name": "stdout"
        }
      ]
    },
    {
      "cell_type": "markdown",
      "metadata": {
        "id": "aL3wzOYmJWeJ"
      },
      "source": [
        "**Seems it is providing more False Negatives values since we have less recall values.Let`see if random forest with randomoversampling or SMOTE can decrease False Negatives** "
      ]
    },
    {
      "cell_type": "markdown",
      "metadata": {
        "id": "PdNO5unK1pur"
      },
      "source": [
        "**With Random OverSampling**"
      ]
    },
    {
      "cell_type": "code",
      "metadata": {
        "colab": {
          "base_uri": "https://localhost:8080/"
        },
        "id": "z8JifVVzgtmN",
        "outputId": "77d75c07-b89e-4e30-96c6-f9692c63186a"
      },
      "source": [
        "rf_classifier_os=RandomForestClassifier()\n",
        "rf_classifier_os.fit(os_x_train,os_y_train)\n",
        "y_pred=rf_classifier_os.predict(x_test)\n",
        "model_report(y_test, y_pred)"
      ],
      "execution_count": 27,
      "outputs": [
        {
          "output_type": "stream",
          "text": [
            "----Confusion matrix---- \n",
            " \n",
            "[[85305     4]\n",
            " [   27   107]]\n",
            "\n",
            "Roc_Auc Score : 0.8992302871580276\n",
            "\n",
            "              precision    recall  f1-score   support\n",
            "\n",
            "           0       1.00      1.00      1.00     85309\n",
            "           1       0.96      0.80      0.87       134\n",
            "\n",
            "    accuracy                           1.00     85443\n",
            "   macro avg       0.98      0.90      0.94     85443\n",
            "weighted avg       1.00      1.00      1.00     85443\n",
            "\n"
          ],
          "name": "stdout"
        }
      ]
    },
    {
      "cell_type": "code",
      "metadata": {
        "colab": {
          "base_uri": "https://localhost:8080/"
        },
        "id": "xw3NzU0GD1qd",
        "outputId": "6c99d088-3e0f-461b-a4f1-34b06a42716e"
      },
      "source": [
        "imb_pipeline=make_pipeline(RandomOverSampler(sampling_strategy=0.6),RandomForestClassifier())\n",
        "cross_validation(imb_pipeline)"
      ],
      "execution_count": 28,
      "outputs": [
        {
          "output_type": "stream",
          "text": [
            "F1 Scores: [0.85555556 0.85714286 0.90710383 0.87431694 0.84745763]\n",
            "Avg F1 Score:0.8683153609688758\n",
            "\n",
            "Recall: [0.77777778 0.78787879 0.84693878 0.81632653 0.76530612]\n",
            "Avg Recall Score:0.7988455988455989\n"
          ],
          "name": "stdout"
        }
      ]
    },
    {
      "cell_type": "markdown",
      "metadata": {
        "id": "s-xi2EuqfsRD"
      },
      "source": [
        "**Random Forest with random oversampling also gave lesser Recall!**\n"
      ]
    },
    {
      "cell_type": "markdown",
      "metadata": {
        "id": "Y9NsUwpQ_FIW"
      },
      "source": [
        "**With SMOTE**"
      ]
    },
    {
      "cell_type": "code",
      "metadata": {
        "colab": {
          "base_uri": "https://localhost:8080/"
        },
        "id": "WCtC3F0lgtml",
        "outputId": "203e41a2-1880-41b2-b979-4c020ac907af"
      },
      "source": [
        "rf_classifier_sm=RandomForestClassifier()\n",
        "rf_classifier_sm.fit(sm_x_train,sm_y_train)\n",
        "y_pred=rf_classifier_sm.predict(x_test)\n",
        "model_report(y_test, y_pred)"
      ],
      "execution_count": 30,
      "outputs": [
        {
          "output_type": "stream",
          "text": [
            "----Confusion matrix---- \n",
            " \n",
            "[[85301     8]\n",
            " [   23   111]]\n",
            "\n",
            "Roc_Auc Score : 0.9141322161071\n",
            "\n",
            "              precision    recall  f1-score   support\n",
            "\n",
            "           0       1.00      1.00      1.00     85309\n",
            "           1       0.93      0.83      0.88       134\n",
            "\n",
            "    accuracy                           1.00     85443\n",
            "   macro avg       0.97      0.91      0.94     85443\n",
            "weighted avg       1.00      1.00      1.00     85443\n",
            "\n"
          ],
          "name": "stdout"
        }
      ]
    },
    {
      "cell_type": "code",
      "metadata": {
        "colab": {
          "base_uri": "https://localhost:8080/"
        },
        "id": "RoX5xKPZqmlo",
        "outputId": "2611fea4-de73-403a-f38f-83eefcc1747b"
      },
      "source": [
        "imb_pipeline=make_pipeline(SMOTE(sampling_strategy=0.6),RandomForestClassifier())\n",
        "cross_validation(imb_pipeline)"
      ],
      "execution_count": 31,
      "outputs": [
        {
          "output_type": "stream",
          "text": [
            "F1 Scores: [0.84816754 0.82901554 0.89839572 0.85263158 0.84782609]\n",
            "Avg F1 Score:0.8552072942274981\n",
            "\n",
            "Recall: [0.81818182 0.80808081 0.85714286 0.82653061 0.79591837]\n",
            "Avg Recall Score:0.8211708925994641\n"
          ],
          "name": "stdout"
        }
      ]
    },
    {
      "cell_type": "markdown",
      "metadata": {
        "id": "S1dmaXFid5mY"
      },
      "source": [
        "**Random Forest with SMOTE gave better Recall and Performed better than other model!**"
      ]
    },
    {
      "cell_type": "markdown",
      "metadata": {
        "id": "Q30G5txngtnG"
      },
      "source": [
        "# XGBoost Classifier¶"
      ]
    },
    {
      "cell_type": "code",
      "metadata": {
        "colab": {
          "base_uri": "https://localhost:8080/"
        },
        "id": "phDA7SuvgtnH",
        "outputId": "d3a66caf-d513-4088-f7cc-ff4b66ec9f34"
      },
      "source": [
        "xgboost=xgb.XGBClassifier(tree_method='gpu_hist')\n",
        "xgboost.fit(x_train,np.ravel(y_train))\n",
        "y_pred=xgboost.predict(x_test)\n",
        "model_report(y_test, y_pred)"
      ],
      "execution_count": 32,
      "outputs": [
        {
          "output_type": "stream",
          "text": [
            "----Confusion matrix---- \n",
            " \n",
            "[[85299    10]\n",
            " [   22   112]]\n",
            "\n",
            "Roc_Auc Score : 0.9178518372980542\n",
            "\n",
            "              precision    recall  f1-score   support\n",
            "\n",
            "           0       1.00      1.00      1.00     85309\n",
            "           1       0.92      0.84      0.88       134\n",
            "\n",
            "    accuracy                           1.00     85443\n",
            "   macro avg       0.96      0.92      0.94     85443\n",
            "weighted avg       1.00      1.00      1.00     85443\n",
            "\n"
          ],
          "name": "stdout"
        }
      ]
    },
    {
      "cell_type": "code",
      "metadata": {
        "colab": {
          "base_uri": "https://localhost:8080/"
        },
        "id": "hw8NOwk6vsSL",
        "outputId": "fa034826-97a5-4632-95b2-b86f445e6718"
      },
      "source": [
        "cross_validation(xgb.XGBClassifier(tree_method='gpu_hist'))"
      ],
      "execution_count": 34,
      "outputs": [
        {
          "output_type": "stream",
          "text": [
            "F1 Scores: [0.82681564 0.81967213 0.87700535 0.84210526 0.84090909]\n",
            "Avg F1 Score:0.8413014950532421\n",
            "\n",
            "Recall: [0.74747475 0.75757576 0.83673469 0.81632653 0.75510204]\n",
            "Avg Recall Score:0.7826427540713254\n"
          ],
          "name": "stdout"
        }
      ]
    },
    {
      "cell_type": "markdown",
      "metadata": {
        "id": "W95BgzOmgh8r"
      },
      "source": [
        "**XGBOOST also gave lesser Recall!**"
      ]
    },
    {
      "cell_type": "markdown",
      "metadata": {
        "id": "f9QhDT02dABF"
      },
      "source": [
        "<h1>Neural Networks</h1>"
      ]
    },
    {
      "cell_type": "code",
      "metadata": {
        "id": "PqlmxJvXaogX"
      },
      "source": [
        "model=tf.keras.Sequential([\n",
        "   layers.Dense(units=65,activation=tf.nn.relu,input_dim=x_train.shape[1]),\n",
        "   layers.Dropout(0.2),\n",
        "   layers.Dense(35,activation=tf.nn.relu),\n",
        "   layers.Dense(1,activation=tf.nn.sigmoid)\n",
        "  ])\n",
        "optimizer=tf.keras.optimizers.Adam(0.0001)\n",
        "model.compile(optimizer=optimizer,loss='binary_crossentropy',metrics=['Precision','Recall'])"
      ],
      "execution_count": 46,
      "outputs": []
    },
    {
      "cell_type": "code",
      "metadata": {
        "colab": {
          "base_uri": "https://localhost:8080/"
        },
        "id": "0BUmfBoKaoLD",
        "outputId": "e4658002-c614-45ec-9e3a-427f0a1b410e"
      },
      "source": [
        "history=model.fit(x_train,y_train,batch_size=128,epochs=35,validation_data=(x_test,y_test),class_weight={0:1,1:5})"
      ],
      "execution_count": 47,
      "outputs": [
        {
          "output_type": "stream",
          "text": [
            "Epoch 1/35\n",
            "1558/1558 [==============================] - 7s 4ms/step - loss: 0.1084 - precision: 0.0634 - recall: 0.1480 - val_loss: 0.0098 - val_precision: 0.8876 - val_recall: 0.5896\n",
            "Epoch 2/35\n",
            "1558/1558 [==============================] - 6s 4ms/step - loss: 0.0206 - precision: 0.8288 - recall: 0.6760 - val_loss: 0.0047 - val_precision: 0.8739 - val_recall: 0.7761\n",
            "Epoch 3/35\n",
            "1558/1558 [==============================] - 6s 4ms/step - loss: 0.0149 - precision: 0.8308 - recall: 0.7682 - val_loss: 0.0043 - val_precision: 0.8425 - val_recall: 0.7985\n",
            "Epoch 4/35\n",
            "1558/1558 [==============================] - 6s 4ms/step - loss: 0.0128 - precision: 0.8023 - recall: 0.7821 - val_loss: 0.0040 - val_precision: 0.8148 - val_recall: 0.8209\n",
            "Epoch 5/35\n",
            "1558/1558 [==============================] - 6s 4ms/step - loss: 0.0113 - precision: 0.7906 - recall: 0.8017 - val_loss: 0.0036 - val_precision: 0.8333 - val_recall: 0.8209\n",
            "Epoch 6/35\n",
            "1558/1558 [==============================] - 6s 4ms/step - loss: 0.0113 - precision: 0.7824 - recall: 0.7933 - val_loss: 0.0035 - val_precision: 0.8088 - val_recall: 0.8209\n",
            "Epoch 7/35\n",
            "1558/1558 [==============================] - 6s 4ms/step - loss: 0.0108 - precision: 0.7811 - recall: 0.8073 - val_loss: 0.0036 - val_precision: 0.7914 - val_recall: 0.8209\n",
            "Epoch 8/35\n",
            "1558/1558 [==============================] - 7s 4ms/step - loss: 0.0102 - precision: 0.7733 - recall: 0.8101 - val_loss: 0.0032 - val_precision: 0.8029 - val_recall: 0.8209\n",
            "Epoch 9/35\n",
            "1558/1558 [==============================] - 7s 4ms/step - loss: 0.0101 - precision: 0.7962 - recall: 0.8184 - val_loss: 0.0033 - val_precision: 0.7971 - val_recall: 0.8209\n",
            "Epoch 10/35\n",
            "1558/1558 [==============================] - 6s 4ms/step - loss: 0.0099 - precision: 0.7865 - recall: 0.8128 - val_loss: 0.0031 - val_precision: 0.8148 - val_recall: 0.8209\n",
            "Epoch 11/35\n",
            "1558/1558 [==============================] - 6s 4ms/step - loss: 0.0091 - precision: 0.7923 - recall: 0.8101 - val_loss: 0.0032 - val_precision: 0.8029 - val_recall: 0.8209\n",
            "Epoch 12/35\n",
            "1558/1558 [==============================] - 6s 4ms/step - loss: 0.0095 - precision: 0.7625 - recall: 0.8073 - val_loss: 0.0032 - val_precision: 0.8029 - val_recall: 0.8209\n",
            "Epoch 13/35\n",
            "1558/1558 [==============================] - 6s 4ms/step - loss: 0.0090 - precision: 0.7636 - recall: 0.8212 - val_loss: 0.0029 - val_precision: 0.8271 - val_recall: 0.8209\n",
            "Epoch 14/35\n",
            "1558/1558 [==============================] - 6s 4ms/step - loss: 0.0090 - precision: 0.7825 - recall: 0.8240 - val_loss: 0.0028 - val_precision: 0.8333 - val_recall: 0.8209\n",
            "Epoch 15/35\n",
            "1558/1558 [==============================] - 6s 4ms/step - loss: 0.0089 - precision: 0.7737 - recall: 0.8212 - val_loss: 0.0031 - val_precision: 0.8029 - val_recall: 0.8209\n",
            "Epoch 16/35\n",
            "1558/1558 [==============================] - 6s 4ms/step - loss: 0.0088 - precision: 0.7615 - recall: 0.8296 - val_loss: 0.0029 - val_precision: 0.8088 - val_recall: 0.8209\n",
            "Epoch 17/35\n",
            "1558/1558 [==============================] - 6s 4ms/step - loss: 0.0086 - precision: 0.7941 - recall: 0.8296 - val_loss: 0.0028 - val_precision: 0.8397 - val_recall: 0.8209\n",
            "Epoch 18/35\n",
            "1558/1558 [==============================] - 6s 4ms/step - loss: 0.0087 - precision: 0.7812 - recall: 0.8380 - val_loss: 0.0028 - val_precision: 0.8148 - val_recall: 0.8209\n",
            "Epoch 19/35\n",
            "1558/1558 [==============================] - 6s 4ms/step - loss: 0.0086 - precision: 0.7740 - recall: 0.8324 - val_loss: 0.0029 - val_precision: 0.8333 - val_recall: 0.8209\n",
            "Epoch 20/35\n",
            "1558/1558 [==============================] - 6s 4ms/step - loss: 0.0081 - precision: 0.7810 - recall: 0.8268 - val_loss: 0.0030 - val_precision: 0.8058 - val_recall: 0.8358\n",
            "Epoch 21/35\n",
            "1558/1558 [==============================] - 6s 4ms/step - loss: 0.0081 - precision: 0.7833 - recall: 0.8380 - val_loss: 0.0029 - val_precision: 0.8175 - val_recall: 0.8358\n",
            "Epoch 22/35\n",
            "1558/1558 [==============================] - 6s 4ms/step - loss: 0.0078 - precision: 0.7868 - recall: 0.8352 - val_loss: 0.0030 - val_precision: 0.8000 - val_recall: 0.8358\n",
            "Epoch 23/35\n",
            "1558/1558 [==============================] - 6s 4ms/step - loss: 0.0080 - precision: 0.7916 - recall: 0.8380 - val_loss: 0.0030 - val_precision: 0.8116 - val_recall: 0.8358\n",
            "Epoch 24/35\n",
            "1558/1558 [==============================] - 6s 4ms/step - loss: 0.0078 - precision: 0.7804 - recall: 0.8436 - val_loss: 0.0027 - val_precision: 0.8421 - val_recall: 0.8358\n",
            "Epoch 25/35\n",
            "1558/1558 [==============================] - 6s 4ms/step - loss: 0.0075 - precision: 0.7801 - recall: 0.8324 - val_loss: 0.0028 - val_precision: 0.8235 - val_recall: 0.8358\n",
            "Epoch 26/35\n",
            "1558/1558 [==============================] - 6s 4ms/step - loss: 0.0071 - precision: 0.7850 - recall: 0.8464 - val_loss: 0.0027 - val_precision: 0.8296 - val_recall: 0.8358\n",
            "Epoch 27/35\n",
            "1558/1558 [==============================] - 6s 4ms/step - loss: 0.0071 - precision: 0.7891 - recall: 0.8464 - val_loss: 0.0027 - val_precision: 0.8296 - val_recall: 0.8358\n",
            "Epoch 28/35\n",
            "1558/1558 [==============================] - 6s 4ms/step - loss: 0.0075 - precision: 0.7912 - recall: 0.8575 - val_loss: 0.0027 - val_precision: 0.8175 - val_recall: 0.8358\n",
            "Epoch 29/35\n",
            "1558/1558 [==============================] - 6s 4ms/step - loss: 0.0072 - precision: 0.7850 - recall: 0.8464 - val_loss: 0.0029 - val_precision: 0.8058 - val_recall: 0.8358\n",
            "Epoch 30/35\n",
            "1558/1558 [==============================] - 6s 4ms/step - loss: 0.0069 - precision: 0.7525 - recall: 0.8492 - val_loss: 0.0026 - val_precision: 0.8235 - val_recall: 0.8358\n",
            "Epoch 31/35\n",
            "1558/1558 [==============================] - 6s 4ms/step - loss: 0.0072 - precision: 0.7726 - recall: 0.8352 - val_loss: 0.0028 - val_precision: 0.8116 - val_recall: 0.8358\n",
            "Epoch 32/35\n",
            "1558/1558 [==============================] - 6s 4ms/step - loss: 0.0068 - precision: 0.7979 - recall: 0.8603 - val_loss: 0.0027 - val_precision: 0.8235 - val_recall: 0.8358\n",
            "Epoch 33/35\n",
            "1558/1558 [==============================] - 6s 4ms/step - loss: 0.0068 - precision: 0.7912 - recall: 0.8575 - val_loss: 0.0026 - val_precision: 0.8116 - val_recall: 0.8358\n",
            "Epoch 34/35\n",
            "1558/1558 [==============================] - 6s 4ms/step - loss: 0.0066 - precision: 0.7739 - recall: 0.8603 - val_loss: 0.0026 - val_precision: 0.8235 - val_recall: 0.8358\n",
            "Epoch 35/35\n",
            "1558/1558 [==============================] - 6s 4ms/step - loss: 0.0064 - precision: 0.7943 - recall: 0.8631 - val_loss: 0.0027 - val_precision: 0.8143 - val_recall: 0.8507\n"
          ],
          "name": "stdout"
        }
      ]
    },
    {
      "cell_type": "markdown",
      "metadata": {
        "id": "QIwjMthtS6uc"
      },
      "source": [
        "**Model Evaluation**"
      ]
    },
    {
      "cell_type": "code",
      "metadata": {
        "id": "23up57NQktFO"
      },
      "source": [
        "def compute_f1score(precision,recall):\n",
        "  f1_score=(2*precision*recall)/(precision+recall)\n",
        "  return f1_score\n",
        "\n",
        "#Retriving loss,precision,recall from History\n",
        "loss=history.history['loss']\n",
        "val_loss=history.history['val_loss']\n",
        "\n",
        "precision=np.array(history.history['precision'])\n",
        "recall=np.array(history.history['recall'])\n",
        "f1_score=compute_f1score(precision,recall)\n",
        "\n",
        "val_precision=np.array(history.history['val_precision'])\n",
        "val_recall=np.array(history.history['val_recall'])\n",
        "val_f1_score=compute_f1score(val_precision,val_recall)\n",
        "\n",
        "epochs=range(len(loss))"
      ],
      "execution_count": 48,
      "outputs": []
    },
    {
      "cell_type": "code",
      "metadata": {
        "colab": {
          "base_uri": "https://localhost:8080/",
          "height": 573
        },
        "id": "MI5qojsVbHRb",
        "outputId": "cca72d63-3dc6-4c86-bda6-1549367a76eb"
      },
      "source": [
        "#ploting training and validation loss\n",
        "plt.plot(epochs,loss,label='Training Loss')\n",
        "plt.plot(epochs,val_loss,label='Validation Loss')\n",
        "plt.title('Training and Validation Loss')\n",
        "plt.xlabel('Epochs')\n",
        "plt.yscale('log')\n",
        "plt.legend()\n",
        "plt.show()\n",
        "\n",
        "#ploting training and validation F1Score\n",
        "plt.plot(epochs,f1_score,label='Training F1Score')\n",
        "plt.plot(epochs,val_f1_score,label='Validation F1Score')\n",
        "plt.title('Training and Validation F1Score')\n",
        "plt.xlabel('Epochs')\n",
        "#plt.yscale('log')\n",
        "plt.legend()\n",
        "plt.show()"
      ],
      "execution_count": 51,
      "outputs": [
        {
          "output_type": "display_data",
          "data": {
            "image/png": "[encoded data removed]",
            "text/plain": [
              "<Figure size 432x288 with 1 Axes>"
            ]
          },
          "metadata": {
            "tags": []
          }
        },
        {
          "output_type": "display_data",
          "data": {
            "image/png": "[encoded data removed]",
            "text/plain": [
              "<Figure size 432x288 with 1 Axes>"
            ]
          },
          "metadata": {
            "tags": []
          }
        }
      ]
    },
    {
      "cell_type": "code",
      "metadata": {
        "colab": {
          "base_uri": "https://localhost:8080/"
        },
        "id": "R3QPtkuObSIF",
        "outputId": "047ed74c-042c-4f91-c4b8-d2f69dc6b99b"
      },
      "source": [
        "y_pred=model.predict_classes(x_test)\n",
        "model_report(y_test,y_pred)"
      ],
      "execution_count": 50,
      "outputs": [
        {
          "output_type": "stream",
          "text": [
            "----Confusion matrix---- \n",
            " \n",
            "[[85283    26]\n",
            " [   20   114]]\n",
            "\n",
            "Roc_Auc Score : 0.9252207471241946\n",
            "\n",
            "              precision    recall  f1-score   support\n",
            "\n",
            "           0       1.00      1.00      1.00     85309\n",
            "           1       0.81      0.85      0.83       134\n",
            "\n",
            "    accuracy                           1.00     85443\n",
            "   macro avg       0.91      0.93      0.92     85443\n",
            "weighted avg       1.00      1.00      1.00     85443\n",
            "\n"
          ],
          "name": "stdout"
        }
      ]
    },
    {
      "cell_type": "markdown",
      "metadata": {
        "id": "P0iKrnATgGPT"
      },
      "source": [
        "**Neural Network gave similar recall as Random Forests with SMOTE but gave less precision. Nerural Network didnt gave an Improvement!**<br>\n",
        "***Random Forest with SMOTE Performed better than other model!***"
      ]
    }
  ]
}