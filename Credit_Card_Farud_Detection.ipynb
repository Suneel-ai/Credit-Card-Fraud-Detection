{
 "cells": [
  {
   "cell_type": "code",
   "execution_count": 4,
   "metadata": {
    "colab": {
     "base_uri": "https://localhost:8080/"
    },
    "id": "dblwqrZ-ix_w",
    "outputId": "d94aa9a6-2995-4a28-bdea-3aea252b2cd9"
   },
   "outputs": [
    {
     "name": "stdout",
     "output_type": "stream",
     "text": [
      "Drive already mounted at /content/drive; to attempt to forcibly remount, call drive.mount(\"/content/drive\", force_remount=True).\n"
     ]
    }
   ],
   "source": [
    "from google.colab import drive\n",
    "drive.mount('/content/drive')"
   ]
  },
  {
   "cell_type": "code",
   "execution_count": 3,
   "metadata": {
    "colab": {
     "base_uri": "https://localhost:8080/"
    },
    "id": "-RSx0jW3gtUa",
    "outputId": "a32c0b9f-1f54-44fc-ecbf-2a24cf994c7f"
   },
   "outputs": [
    {
     "name": "stderr",
     "output_type": "stream",
     "text": [
      "/usr/local/lib/python3.6/dist-packages/sklearn/externals/six.py:31: FutureWarning: The module is deprecated in version 0.21 and will be removed in version 0.23 since we've dropped support for Python 2.7. Please rely on the official version of six (https://pypi.org/project/six/).\n",
      "  \"(https://pypi.org/project/six/).\", FutureWarning)\n",
      "/usr/local/lib/python3.6/dist-packages/sklearn/utils/deprecation.py:144: FutureWarning: The sklearn.neighbors.base module is  deprecated in version 0.22 and will be removed in version 0.24. The corresponding classes / functions should instead be imported from sklearn.neighbors. Anything that cannot be imported from sklearn.neighbors is now part of the private API.\n",
      "  warnings.warn(message, FutureWarning)\n"
     ]
    }
   ],
   "source": [
    "import numpy as np\n",
    "from matplotlib import pyplot as plt\n",
    "import pandas as pd\n",
    "import seaborn as sns\n",
    "from sklearn.metrics import classification_report,accuracy_score,confusion_matrix,roc_auc_score,f1_score\n",
    "from sklearn.ensemble import RandomForestClassifier\n",
    "from sklearn.preprocessing import StandardScaler\n",
    "from sklearn.model_selection import  StratifiedKFold,train_test_split,cross_val_score,RandomizedSearchCV\n",
    "from imblearn.over_sampling import RandomOverSampler,SMOTE\n",
    "import xgboost as xgb\n",
    "import tensorflow as tf\n",
    "from tensorflow.keras import layers\n",
    "plt.style.use(['dark_background'])"
   ]
  },
  {
   "cell_type": "code",
   "execution_count": null,
   "metadata": {
    "colab": {
     "base_uri": "https://localhost:8080/",
     "height": 35
    },
    "id": "6_m8PY34Y1PS",
    "outputId": "cc0e46a7-94ee-4c6d-8dd2-545335656447"
   },
   "outputs": [
    {
     "data": {
      "application/vnd.google.colaboratory.intrinsic+json": {
       "type": "string"
      },
      "text/plain": [
       "'/device:GPU:0'"
      ]
     },
     "execution_count": 4,
     "metadata": {
      "tags": []
     },
     "output_type": "execute_result"
    }
   ],
   "source": [
    "tf.test.gpu_device_name() "
   ]
  },
  {
   "cell_type": "code",
   "execution_count": 6,
   "metadata": {
    "colab": {
     "base_uri": "https://localhost:8080/",
     "height": 224
    },
    "id": "UFnOXBBUgtVz",
    "outputId": "d853a147-0220-4cd9-e6de-0b472dc7ac07"
   },
   "outputs": [
    {
     "data": {
      "text/html": [
       "<div>\n",
       "<style scoped>\n",
       "    .dataframe tbody tr th:only-of-type {\n",
       "        vertical-align: middle;\n",
       "    }\n",
       "\n",
       "    .dataframe tbody tr th {\n",
       "        vertical-align: top;\n",
       "    }\n",
       "\n",
       "    .dataframe thead th {\n",
       "        text-align: right;\n",
       "    }\n",
       "</style>\n",
       "<table border=\"1\" class=\"dataframe\">\n",
       "  <thead>\n",
       "    <tr style=\"text-align: right;\">\n",
       "      <th></th>\n",
       "      <th>Time</th>\n",
       "      <th>V1</th>\n",
       "      <th>V2</th>\n",
       "      <th>V3</th>\n",
       "      <th>V4</th>\n",
       "      <th>V5</th>\n",
       "      <th>V6</th>\n",
       "      <th>V7</th>\n",
       "      <th>V8</th>\n",
       "      <th>V9</th>\n",
       "      <th>V10</th>\n",
       "      <th>V11</th>\n",
       "      <th>V12</th>\n",
       "      <th>V13</th>\n",
       "      <th>V14</th>\n",
       "      <th>V15</th>\n",
       "      <th>V16</th>\n",
       "      <th>V17</th>\n",
       "      <th>V18</th>\n",
       "      <th>V19</th>\n",
       "      <th>V20</th>\n",
       "      <th>V21</th>\n",
       "      <th>V22</th>\n",
       "      <th>V23</th>\n",
       "      <th>V24</th>\n",
       "      <th>V25</th>\n",
       "      <th>V26</th>\n",
       "      <th>V27</th>\n",
       "      <th>V28</th>\n",
       "      <th>Amount</th>\n",
       "      <th>Class</th>\n",
       "    </tr>\n",
       "  </thead>\n",
       "  <tbody>\n",
       "    <tr>\n",
       "      <th>0</th>\n",
       "      <td>0.0</td>\n",
       "      <td>-1.359807</td>\n",
       "      <td>-0.072781</td>\n",
       "      <td>2.536347</td>\n",
       "      <td>1.378155</td>\n",
       "      <td>-0.338321</td>\n",
       "      <td>0.462388</td>\n",
       "      <td>0.239599</td>\n",
       "      <td>0.098698</td>\n",
       "      <td>0.363787</td>\n",
       "      <td>0.090794</td>\n",
       "      <td>-0.551600</td>\n",
       "      <td>-0.617801</td>\n",
       "      <td>-0.991390</td>\n",
       "      <td>-0.311169</td>\n",
       "      <td>1.468177</td>\n",
       "      <td>-0.470401</td>\n",
       "      <td>0.207971</td>\n",
       "      <td>0.025791</td>\n",
       "      <td>0.403993</td>\n",
       "      <td>0.251412</td>\n",
       "      <td>-0.018307</td>\n",
       "      <td>0.277838</td>\n",
       "      <td>-0.110474</td>\n",
       "      <td>0.066928</td>\n",
       "      <td>0.128539</td>\n",
       "      <td>-0.189115</td>\n",
       "      <td>0.133558</td>\n",
       "      <td>-0.021053</td>\n",
       "      <td>149.62</td>\n",
       "      <td>0</td>\n",
       "    </tr>\n",
       "    <tr>\n",
       "      <th>1</th>\n",
       "      <td>0.0</td>\n",
       "      <td>1.191857</td>\n",
       "      <td>0.266151</td>\n",
       "      <td>0.166480</td>\n",
       "      <td>0.448154</td>\n",
       "      <td>0.060018</td>\n",
       "      <td>-0.082361</td>\n",
       "      <td>-0.078803</td>\n",
       "      <td>0.085102</td>\n",
       "      <td>-0.255425</td>\n",
       "      <td>-0.166974</td>\n",
       "      <td>1.612727</td>\n",
       "      <td>1.065235</td>\n",
       "      <td>0.489095</td>\n",
       "      <td>-0.143772</td>\n",
       "      <td>0.635558</td>\n",
       "      <td>0.463917</td>\n",
       "      <td>-0.114805</td>\n",
       "      <td>-0.183361</td>\n",
       "      <td>-0.145783</td>\n",
       "      <td>-0.069083</td>\n",
       "      <td>-0.225775</td>\n",
       "      <td>-0.638672</td>\n",
       "      <td>0.101288</td>\n",
       "      <td>-0.339846</td>\n",
       "      <td>0.167170</td>\n",
       "      <td>0.125895</td>\n",
       "      <td>-0.008983</td>\n",
       "      <td>0.014724</td>\n",
       "      <td>2.69</td>\n",
       "      <td>0</td>\n",
       "    </tr>\n",
       "    <tr>\n",
       "      <th>2</th>\n",
       "      <td>1.0</td>\n",
       "      <td>-1.358354</td>\n",
       "      <td>-1.340163</td>\n",
       "      <td>1.773209</td>\n",
       "      <td>0.379780</td>\n",
       "      <td>-0.503198</td>\n",
       "      <td>1.800499</td>\n",
       "      <td>0.791461</td>\n",
       "      <td>0.247676</td>\n",
       "      <td>-1.514654</td>\n",
       "      <td>0.207643</td>\n",
       "      <td>0.624501</td>\n",
       "      <td>0.066084</td>\n",
       "      <td>0.717293</td>\n",
       "      <td>-0.165946</td>\n",
       "      <td>2.345865</td>\n",
       "      <td>-2.890083</td>\n",
       "      <td>1.109969</td>\n",
       "      <td>-0.121359</td>\n",
       "      <td>-2.261857</td>\n",
       "      <td>0.524980</td>\n",
       "      <td>0.247998</td>\n",
       "      <td>0.771679</td>\n",
       "      <td>0.909412</td>\n",
       "      <td>-0.689281</td>\n",
       "      <td>-0.327642</td>\n",
       "      <td>-0.139097</td>\n",
       "      <td>-0.055353</td>\n",
       "      <td>-0.059752</td>\n",
       "      <td>378.66</td>\n",
       "      <td>0</td>\n",
       "    </tr>\n",
       "    <tr>\n",
       "      <th>3</th>\n",
       "      <td>1.0</td>\n",
       "      <td>-0.966272</td>\n",
       "      <td>-0.185226</td>\n",
       "      <td>1.792993</td>\n",
       "      <td>-0.863291</td>\n",
       "      <td>-0.010309</td>\n",
       "      <td>1.247203</td>\n",
       "      <td>0.237609</td>\n",
       "      <td>0.377436</td>\n",
       "      <td>-1.387024</td>\n",
       "      <td>-0.054952</td>\n",
       "      <td>-0.226487</td>\n",
       "      <td>0.178228</td>\n",
       "      <td>0.507757</td>\n",
       "      <td>-0.287924</td>\n",
       "      <td>-0.631418</td>\n",
       "      <td>-1.059647</td>\n",
       "      <td>-0.684093</td>\n",
       "      <td>1.965775</td>\n",
       "      <td>-1.232622</td>\n",
       "      <td>-0.208038</td>\n",
       "      <td>-0.108300</td>\n",
       "      <td>0.005274</td>\n",
       "      <td>-0.190321</td>\n",
       "      <td>-1.175575</td>\n",
       "      <td>0.647376</td>\n",
       "      <td>-0.221929</td>\n",
       "      <td>0.062723</td>\n",
       "      <td>0.061458</td>\n",
       "      <td>123.50</td>\n",
       "      <td>0</td>\n",
       "    </tr>\n",
       "    <tr>\n",
       "      <th>4</th>\n",
       "      <td>2.0</td>\n",
       "      <td>-1.158233</td>\n",
       "      <td>0.877737</td>\n",
       "      <td>1.548718</td>\n",
       "      <td>0.403034</td>\n",
       "      <td>-0.407193</td>\n",
       "      <td>0.095921</td>\n",
       "      <td>0.592941</td>\n",
       "      <td>-0.270533</td>\n",
       "      <td>0.817739</td>\n",
       "      <td>0.753074</td>\n",
       "      <td>-0.822843</td>\n",
       "      <td>0.538196</td>\n",
       "      <td>1.345852</td>\n",
       "      <td>-1.119670</td>\n",
       "      <td>0.175121</td>\n",
       "      <td>-0.451449</td>\n",
       "      <td>-0.237033</td>\n",
       "      <td>-0.038195</td>\n",
       "      <td>0.803487</td>\n",
       "      <td>0.408542</td>\n",
       "      <td>-0.009431</td>\n",
       "      <td>0.798278</td>\n",
       "      <td>-0.137458</td>\n",
       "      <td>0.141267</td>\n",
       "      <td>-0.206010</td>\n",
       "      <td>0.502292</td>\n",
       "      <td>0.219422</td>\n",
       "      <td>0.215153</td>\n",
       "      <td>69.99</td>\n",
       "      <td>0</td>\n",
       "    </tr>\n",
       "  </tbody>\n",
       "</table>\n",
       "</div>"
      ],
      "text/plain": [
       "   Time        V1        V2        V3  ...       V27       V28  Amount  Class\n",
       "0   0.0 -1.359807 -0.072781  2.536347  ...  0.133558 -0.021053  149.62      0\n",
       "1   0.0  1.191857  0.266151  0.166480  ... -0.008983  0.014724    2.69      0\n",
       "2   1.0 -1.358354 -1.340163  1.773209  ... -0.055353 -0.059752  378.66      0\n",
       "3   1.0 -0.966272 -0.185226  1.792993  ...  0.062723  0.061458  123.50      0\n",
       "4   2.0 -1.158233  0.877737  1.548718  ...  0.219422  0.215153   69.99      0\n",
       "\n",
       "[5 rows x 31 columns]"
      ]
     },
     "execution_count": 6,
     "metadata": {
      "tags": []
     },
     "output_type": "execute_result"
    }
   ],
   "source": [
    "df=pd.read_csv('/content/drive/MyDrive/Colab Notebooks/creditcard.csv')\n",
    "#Variable Name is not given due to thier privacy reason \n",
    "df.head()"
   ]
  },
  {
   "cell_type": "code",
   "execution_count": null,
   "metadata": {
    "colab": {
     "base_uri": "https://localhost:8080/"
    },
    "id": "3QOfjBhrgtXy",
    "outputId": "ce63b5d7-68a1-4f7f-9f85-f5f380f4574c"
   },
   "outputs": [
    {
     "data": {
      "text/plain": [
       "(284807, 31)"
      ]
     },
     "execution_count": 30,
     "metadata": {
      "tags": []
     },
     "output_type": "execute_result"
    }
   ],
   "source": [
    "df.shape"
   ]
  },
  {
   "cell_type": "code",
   "execution_count": null,
   "metadata": {
    "colab": {
     "base_uri": "https://localhost:8080/"
    },
    "id": "0WIqXt56gtYU",
    "outputId": "5f581e18-e02a-4625-c745-2609a75c0347"
   },
   "outputs": [
    {
     "name": "stdout",
     "output_type": "stream",
     "text": [
      "<class 'pandas.core.frame.DataFrame'>\n",
      "RangeIndex: 284807 entries, 0 to 284806\n",
      "Data columns (total 31 columns):\n",
      " #   Column  Non-Null Count   Dtype  \n",
      "---  ------  --------------   -----  \n",
      " 0   Time    284807 non-null  float64\n",
      " 1   V1      284807 non-null  float64\n",
      " 2   V2      284807 non-null  float64\n",
      " 3   V3      284807 non-null  float64\n",
      " 4   V4      284807 non-null  float64\n",
      " 5   V5      284807 non-null  float64\n",
      " 6   V6      284807 non-null  float64\n",
      " 7   V7      284807 non-null  float64\n",
      " 8   V8      284807 non-null  float64\n",
      " 9   V9      284807 non-null  float64\n",
      " 10  V10     284807 non-null  float64\n",
      " 11  V11     284807 non-null  float64\n",
      " 12  V12     284807 non-null  float64\n",
      " 13  V13     284807 non-null  float64\n",
      " 14  V14     284807 non-null  float64\n",
      " 15  V15     284807 non-null  float64\n",
      " 16  V16     284807 non-null  float64\n",
      " 17  V17     284807 non-null  float64\n",
      " 18  V18     284807 non-null  float64\n",
      " 19  V19     284807 non-null  float64\n",
      " 20  V20     284807 non-null  float64\n",
      " 21  V21     284807 non-null  float64\n",
      " 22  V22     284807 non-null  float64\n",
      " 23  V23     284807 non-null  float64\n",
      " 24  V24     284807 non-null  float64\n",
      " 25  V25     284807 non-null  float64\n",
      " 26  V26     284807 non-null  float64\n",
      " 27  V27     284807 non-null  float64\n",
      " 28  V28     284807 non-null  float64\n",
      " 29  Amount  284807 non-null  float64\n",
      " 30  Class   284807 non-null  int64  \n",
      "dtypes: float64(30), int64(1)\n",
      "memory usage: 67.4 MB\n"
     ]
    }
   ],
   "source": [
    "df.info()"
   ]
  },
  {
   "cell_type": "code",
   "execution_count": null,
   "metadata": {
    "colab": {
     "base_uri": "https://localhost:8080/"
    },
    "id": "n9VWBPv-gtZf",
    "outputId": "b1c51b16-6132-4e0f-e46f-42e3203f1f14"
   },
   "outputs": [
    {
     "name": "stdout",
     "output_type": "stream",
     "text": [
      "Not Fraud: 99.83% of dataset\n",
      "Fraud: 0.17% of dataset\n"
     ]
    }
   ],
   "source": [
    "not_fraud=(df['Class'].value_counts()[0]/len(df))*100\n",
    "fraud=(df['Class'].value_counts()[1]/len(df))*100\n",
    "print(f'Not Fraud: {not_fraud:.2f}% of dataset')\n",
    "print(f'Fraud: {fraud:.2f}% of dataset')"
   ]
  },
  {
   "cell_type": "code",
   "execution_count": null,
   "metadata": {
    "colab": {
     "base_uri": "https://localhost:8080/",
     "height": 312
    },
    "id": "s-a5rRxvgtZ5",
    "outputId": "d4c30edc-2ca4-4570-a2e6-9c0e3e784811"
   },
   "outputs": [
    {
     "data": {
      "text/plain": [
       "Text(0.5, 1.0, 'Class Distributions of Frauds(1) and Not frauds(0)')"
      ]
     },
     "execution_count": 8,
     "metadata": {
      "tags": []
     },
     "output_type": "execute_result"
    },
    {
     "data": {
      "image/png": "[encoded data removed]",
      "text/plain": [
       "<Figure size 432x288 with 1 Axes>"
      ]
     },
     "metadata": {
      "tags": []
     },
     "output_type": "display_data"
    }
   ],
   "source": [
    "sns.countplot('Class',data=df)\n",
    "plt.title('Class Distributions of Frauds(1) and Not frauds(0)')"
   ]
  },
  {
   "cell_type": "code",
   "execution_count": null,
   "metadata": {
    "colab": {
     "base_uri": "https://localhost:8080/",
     "height": 296
    },
    "id": "-aYtPj9Xgta-",
    "outputId": "f1c2dc36-22a7-4871-910d-3fc28f1b32d7"
   },
   "outputs": [
    {
     "data": {
      "text/plain": [
       "<matplotlib.axes._subplots.AxesSubplot at 0x7ff8c282d390>"
      ]
     },
     "execution_count": 9,
     "metadata": {
      "tags": []
     },
     "output_type": "execute_result"
    },
    {
     "data": {
      "image/png": "[encoded data removed]",
      "text/plain": [
       "<Figure size 432x288 with 1 Axes>"
      ]
     },
     "metadata": {
      "tags": []
     },
     "output_type": "display_data"
    }
   ],
   "source": [
    "sns.distplot(df['Amount'])"
   ]
  },
  {
   "cell_type": "code",
   "execution_count": null,
   "metadata": {
    "colab": {
     "base_uri": "https://localhost:8080/",
     "height": 298
    },
    "id": "xnFFeTsNgtbu",
    "outputId": "32f35797-5915-421c-e9fd-ff68bd5b1a46"
   },
   "outputs": [
    {
     "data": {
      "text/plain": [
       "<matplotlib.axes._subplots.AxesSubplot at 0x7ff8befc9f28>"
      ]
     },
     "execution_count": 10,
     "metadata": {
      "tags": []
     },
     "output_type": "execute_result"
    },
    {
     "data": {
      "image/png": "[encoded data removed]",
      "text/plain": [
       "<Figure size 432x288 with 1 Axes>"
      ]
     },
     "metadata": {
      "tags": []
     },
     "output_type": "display_data"
    }
   ],
   "source": [
    "sns.histplot(df['Time'])"
   ]
  },
  {
   "cell_type": "markdown",
   "metadata": {
    "id": "-Rm7yvNIgtc0"
   },
   "source": [
    "**Scaling Amount and time features**"
   ]
  },
  {
   "cell_type": "code",
   "execution_count": 7,
   "metadata": {
    "id": "psXdWQ88gtc2"
   },
   "outputs": [],
   "source": [
    "scaler=StandardScaler()\n",
    "df['Time']=scaler.fit_transform(df['Time'].values.reshape(-1,1))\n",
    "df['Amount']=scaler.fit_transform(df['Amount'].values.reshape(-1,1))"
   ]
  },
  {
   "cell_type": "markdown",
   "metadata": {
    "id": "j19GWmBcgtdK"
   },
   "source": [
    "**Data Spliting**"
   ]
  },
  {
   "cell_type": "code",
   "execution_count": 8,
   "metadata": {
    "id": "Kq8E4o0Qgtdc"
   },
   "outputs": [],
   "source": [
    "x=df.iloc[:,0:30].values\n",
    "y=df.iloc[:, 30:].values\n",
    "x_train,x_test,y_train,y_test=train_test_split(x,y,test_size=0.2)"
   ]
  },
  {
   "cell_type": "code",
   "execution_count": 85,
   "metadata": {
    "colab": {
     "base_uri": "https://localhost:8080/"
    },
    "id": "KonKQ7pXgtec",
    "outputId": "035ae17f-6f83-42e1-d69b-5413b7e0bffd"
   },
   "outputs": [
    {
     "data": {
      "text/plain": [
       "0    227465\n",
       "1       380\n",
       "dtype: int64"
      ]
     },
     "execution_count": 85,
     "metadata": {
      "tags": []
     },
     "output_type": "execute_result"
    }
   ],
   "source": [
    "pd.DataFrame(y_train).value_counts()"
   ]
  },
  {
   "cell_type": "code",
   "execution_count": 86,
   "metadata": {
    "colab": {
     "base_uri": "https://localhost:8080/"
    },
    "id": "iXNDnBpXgtfA",
    "outputId": "845b65f5-36ed-4899-fdae-e03c3df0a850"
   },
   "outputs": [
    {
     "data": {
      "text/plain": [
       "0    56850\n",
       "1      112\n",
       "dtype: int64"
      ]
     },
     "execution_count": 86,
     "metadata": {
      "tags": []
     },
     "output_type": "execute_result"
    }
   ],
   "source": [
    "pd.DataFrame(y_test).value_counts()"
   ]
  },
  {
   "cell_type": "markdown",
   "metadata": {
    "id": "pGgxYrFXgthc"
   },
   "source": [
    "# Random OverSampling"
   ]
  },
  {
   "cell_type": "code",
   "execution_count": 9,
   "metadata": {
    "id": "3XcStTcugthd"
   },
   "outputs": [],
   "source": [
    "OverSampler=RandomOverSampler(sampling_strategy=0.6)\n",
    "os_x_train,os_y_train=OverSampler.fit_resample(x_train,y_train)"
   ]
  },
  {
   "cell_type": "code",
   "execution_count": 87,
   "metadata": {
    "colab": {
     "base_uri": "https://localhost:8080/"
    },
    "id": "-UIo88GXgtiO",
    "outputId": "42e61307-f45d-49e5-dc03-a626a707eeb5"
   },
   "outputs": [
    {
     "data": {
      "text/plain": [
       "0    227465\n",
       "1    136479\n",
       "dtype: int64"
      ]
     },
     "execution_count": 87,
     "metadata": {
      "tags": []
     },
     "output_type": "execute_result"
    }
   ],
   "source": [
    "pd.DataFrame(os_y_train).value_counts()"
   ]
  },
  {
   "cell_type": "markdown",
   "metadata": {
    "id": "Np95eXtagtil"
   },
   "source": [
    "# SMOTE(Synthetic Minority Over-sampling Technique)\n"
   ]
  },
  {
   "cell_type": "code",
   "execution_count": 10,
   "metadata": {
    "id": "hYtW2uQigtin"
   },
   "outputs": [],
   "source": [
    "smote=SMOTE(sampling_strategy=0.6)\n",
    "sm_x_train,sm_y_train=smote.fit_resample(x_train,y_train)"
   ]
  },
  {
   "cell_type": "code",
   "execution_count": 88,
   "metadata": {
    "colab": {
     "base_uri": "https://localhost:8080/"
    },
    "id": "ZKYAgTo3gtjU",
    "outputId": "ae99d3a5-7be8-451a-e3b9-ad4c2d1c201e"
   },
   "outputs": [
    {
     "data": {
      "text/plain": [
       "0    227465\n",
       "1    136479\n",
       "dtype: int64"
      ]
     },
     "execution_count": 88,
     "metadata": {
      "tags": []
     },
     "output_type": "execute_result"
    }
   ],
   "source": [
    "pd.DataFrame(sm_y_train).value_counts()"
   ]
  },
  {
   "cell_type": "markdown",
   "metadata": {
    "id": "xI2Wl4Khgtjn"
   },
   "source": [
    "# Model Building"
   ]
  },
  {
   "cell_type": "code",
   "execution_count": 41,
   "metadata": {
    "id": "ZDlSYN9mgtkR"
   },
   "outputs": [],
   "source": [
    "def model_report(y_test,y_pred):\n",
    "    print(f'----Confusion matrix---- \\n \\n{confusion_matrix(y_test,y_pred)}\\n')\n",
    "    print(f'----Accuracy score:{accuracy_score(y_test,y_pred)}\\n')\n",
    "    print(f'Area under curve: {roc_auc_score(y_test,y_pred)}\\n')\n",
    "    print(classification_report(y_test,y_pred))"
   ]
  },
  {
   "cell_type": "code",
   "execution_count": 12,
   "metadata": {
    "id": "q14c2GrfupVM"
   },
   "outputs": [],
   "source": [
    "def cross_validation(estimator,cv=StratifiedKFold(n_splits=10)):\n",
    "  f1_scores=cross_val_score(estimator,x,y,cv=cv,scoring='f1')\n",
    "  print(f1_scores)\n",
    "  print(f'\\nAvg F1 Score:{f1_scores.mean()}')"
   ]
  },
  {
   "cell_type": "markdown",
   "metadata": {
    "id": "MIU6Md4Ugtli"
   },
   "source": [
    "# Random Forest Classfier"
   ]
  },
  {
   "cell_type": "markdown",
   "metadata": {
    "id": "IBRikuKyxZ7n"
   },
   "source": [
    "**In Orginal Data**"
   ]
  },
  {
   "cell_type": "code",
   "execution_count": 89,
   "metadata": {
    "colab": {
     "base_uri": "https://localhost:8080/"
    },
    "id": "SR_HI2Nlgtl0",
    "outputId": "a59d6857-54ac-487f-f14f-8e147278172f"
   },
   "outputs": [
    {
     "name": "stdout",
     "output_type": "stream",
     "text": [
      "----Confusion matrix---- \n",
      " \n",
      "[[56847     3]\n",
      " [   25    87]]\n",
      "\n",
      "----Accuracy score:0.9995084442259752\n",
      "\n",
      "Area under curve: 0.8883664719185829\n",
      "\n",
      "              precision    recall  f1-score   support\n",
      "\n",
      "           0       1.00      1.00      1.00     56850\n",
      "           1       0.97      0.78      0.86       112\n",
      "\n",
      "    accuracy                           1.00     56962\n",
      "   macro avg       0.98      0.89      0.93     56962\n",
      "weighted avg       1.00      1.00      1.00     56962\n",
      "\n"
     ]
    }
   ],
   "source": [
    "rf_classfier=RandomForestClassifier()\n",
    "rf_classfier.fit(x_train,y_train)\n",
    "y_pred=rf_classfier.predict(x_test)\n",
    "model_report(y_test, y_pred)"
   ]
  },
  {
   "cell_type": "code",
   "execution_count": null,
   "metadata": {
    "colab": {
     "base_uri": "https://localhost:8080/"
    },
    "id": "rb-GKnmvBaQo",
    "outputId": "f9878aad-c0f1-42ca-a577-b861e48ba560"
   },
   "outputs": [
    {
     "data": {
      "text/plain": [
       "array([0.00384228, 0.75229358, 0.79207921, 0.84684685, 0.77419355,\n",
       "       0.89655172, 0.81904762, 0.80769231])"
      ]
     },
     "execution_count": 60,
     "metadata": {
      "tags": []
     },
     "output_type": "execute_result"
    }
   ],
   "source": [
    "cross_validatiuon(RandomForestClassifier())"
   ]
  },
  {
   "cell_type": "markdown",
   "metadata": {
    "id": "PdNO5unK1pur"
   },
   "source": [
    "**With Random OverSampling**"
   ]
  },
  {
   "cell_type": "code",
   "execution_count": 91,
   "metadata": {
    "colab": {
     "base_uri": "https://localhost:8080/"
    },
    "id": "z8JifVVzgtmN",
    "outputId": "2543c462-7172-4e5e-bb0d-8c48d6903c6d"
   },
   "outputs": [
    {
     "name": "stdout",
     "output_type": "stream",
     "text": [
      "----Confusion matrix---- \n",
      " \n",
      "[[56846     4]\n",
      " [   23    89]]\n",
      "\n",
      "----Accuracy score:0.9995259997893332\n",
      "\n",
      "Area under curve: 0.8972862482723961\n",
      "\n",
      "              precision    recall  f1-score   support\n",
      "\n",
      "           0       1.00      1.00      1.00     56850\n",
      "           1       0.96      0.79      0.87       112\n",
      "\n",
      "    accuracy                           1.00     56962\n",
      "   macro avg       0.98      0.90      0.93     56962\n",
      "weighted avg       1.00      1.00      1.00     56962\n",
      "\n"
     ]
    }
   ],
   "source": [
    "rf_classfier_os=RandomForestClassifier()\n",
    "rf_classfier_os.fit(os_x_train,os_y_train)\n",
    "y_pred=rf_classfier_os.predict(x_test)\n",
    "model_report(y_test, y_pred)"
   ]
  },
  {
   "cell_type": "markdown",
   "metadata": {
    "id": "Y9NsUwpQ_FIW"
   },
   "source": [
    "**With SMOTE**"
   ]
  },
  {
   "cell_type": "code",
   "execution_count": 92,
   "metadata": {
    "colab": {
     "base_uri": "https://localhost:8080/"
    },
    "id": "WCtC3F0lgtml",
    "outputId": "0986345f-c627-4237-9d5a-c0ecd2e26a34"
   },
   "outputs": [
    {
     "name": "stdout",
     "output_type": "stream",
     "text": [
      "----Confusion matrix---- \n",
      " \n",
      "[[56842     8]\n",
      " [   18    94]]\n",
      "\n",
      "----Accuracy score:0.9995435553526912\n",
      "\n",
      "Area under curve: 0.9195724965447921\n",
      "\n",
      "              precision    recall  f1-score   support\n",
      "\n",
      "           0       1.00      1.00      1.00     56850\n",
      "           1       0.92      0.84      0.88       112\n",
      "\n",
      "    accuracy                           1.00     56962\n",
      "   macro avg       0.96      0.92      0.94     56962\n",
      "weighted avg       1.00      1.00      1.00     56962\n",
      "\n"
     ]
    }
   ],
   "source": [
    "rf_classfier_sm=RandomForestClassifier()\n",
    "rf_classfier_sm.fit(sm_x_train,sm_y_train)\n",
    "y_pred=rf_classfier_sm.predict(x_test)\n",
    "model_report(y_test, y_pred)"
   ]
  },
  {
   "cell_type": "markdown",
   "metadata": {
    "id": "Q30G5txngtnG"
   },
   "source": [
    "# XGBoost Classifier¶"
   ]
  },
  {
   "cell_type": "markdown",
   "metadata": {
    "id": "YcZ0nPQ01Ys5"
   },
   "source": [
    "**In Orginal Data**"
   ]
  },
  {
   "cell_type": "code",
   "execution_count": 94,
   "metadata": {
    "colab": {
     "base_uri": "https://localhost:8080/"
    },
    "id": "phDA7SuvgtnH",
    "outputId": "e8ede473-6aaf-4bd1-ded1-27c2faaf931d"
   },
   "outputs": [
    {
     "name": "stdout",
     "output_type": "stream",
     "text": [
      "----Confusion matrix---- \n",
      " \n",
      "[[56847     3]\n",
      " [   24    88]]\n",
      "\n",
      "----Accuracy score:0.9995259997893332\n",
      "\n",
      "Area under curve: 0.8928307576328683\n",
      "\n",
      "              precision    recall  f1-score   support\n",
      "\n",
      "           0       1.00      1.00      1.00     56850\n",
      "           1       0.97      0.79      0.87       112\n",
      "\n",
      "    accuracy                           1.00     56962\n",
      "   macro avg       0.98      0.89      0.93     56962\n",
      "weighted avg       1.00      1.00      1.00     56962\n",
      "\n"
     ]
    }
   ],
   "source": [
    "xgboost=xgb.XGBClassifier(tree_method='gpu_hist',min_child_weight=3,subsample=0.9,\n",
    "                          max_depth=4,colsample_bytree=0.9)\n",
    "xgboost.fit(x_train,y_train)\n",
    "y_pred=xgboost.predict(x_test)\n",
    "model_report(y_test, y_pred)"
   ]
  },
  {
   "cell_type": "code",
   "execution_count": 22,
   "metadata": {
    "colab": {
     "base_uri": "https://localhost:8080/"
    },
    "id": "hw8NOwk6vsSL",
    "outputId": "e61720ef-0509-4ec5-c924-9100ac5cc03c"
   },
   "outputs": [
    {
     "name": "stdout",
     "output_type": "stream",
     "text": [
      "[0.67669173 0.54054054 0.93069307 0.81927711 0.80898876 0.72164948\n",
      " 0.91666667 0.86363636 0.86046512 0.78571429]\n",
      "\n",
      "Avg F1 Score:0.7924323128481926\n"
     ]
    }
   ],
   "source": [
    "cross_validation(xgb.XGBClassifier(tree_method='gpu_hist',gamma=0.1,min_child_weight=3,subsample=0.9,\n",
    "                          max_depth=4,colsample_bytree=0.9))"
   ]
  },
  {
   "cell_type": "markdown",
   "metadata": {
    "id": "1nrRwUPs_-Ly"
   },
   "source": [
    "**With Random OverSampling**"
   ]
  },
  {
   "cell_type": "code",
   "execution_count": 97,
   "metadata": {
    "colab": {
     "base_uri": "https://localhost:8080/"
    },
    "id": "gkPzt8obgtn8",
    "outputId": "d05e304c-96b2-44e3-ad65-ccc85a577fdd"
   },
   "outputs": [
    {
     "name": "stdout",
     "output_type": "stream",
     "text": [
      "----Confusion matrix---- \n",
      " \n",
      "[[56670   180]\n",
      " [   14    98]]\n",
      "\n",
      "----Accuracy score:0.9965942207085425\n",
      "\n",
      "Area under curve: 0.9359168865435357\n",
      "\n",
      "              precision    recall  f1-score   support\n",
      "\n",
      "           0       1.00      1.00      1.00     56850\n",
      "           1       0.35      0.88      0.50       112\n",
      "\n",
      "    accuracy                           1.00     56962\n",
      "   macro avg       0.68      0.94      0.75     56962\n",
      "weighted avg       1.00      1.00      1.00     56962\n",
      "\n"
     ]
    }
   ],
   "source": [
    "xgboost_os=xgb.XGBClassifier(tree_method='gpu_hist')\n",
    "xgboost_os.fit(os_x_train,os_y_train)\n",
    "y_pred=xgboost_os.predict(x_test)\n",
    "model_report(y_test, y_pred)"
   ]
  },
  {
   "cell_type": "markdown",
   "metadata": {
    "id": "-4LI-nYS_tDq"
   },
   "source": [
    "**With SMOTE**"
   ]
  },
  {
   "cell_type": "code",
   "execution_count": 98,
   "metadata": {
    "colab": {
     "base_uri": "https://localhost:8080/"
    },
    "id": "lue-0i7BgtoY",
    "outputId": "9c5e11c8-197e-4c90-86e2-3f9e853f14e5"
   },
   "outputs": [
    {
     "name": "stdout",
     "output_type": "stream",
     "text": [
      "----Confusion matrix---- \n",
      " \n",
      "[[56521   329]\n",
      " [   13    99]]\n",
      "\n",
      "----Accuracy score:0.9939959973315544\n",
      "\n",
      "Area under curve: 0.9390707061188591\n",
      "\n",
      "              precision    recall  f1-score   support\n",
      "\n",
      "           0       1.00      0.99      1.00     56850\n",
      "           1       0.23      0.88      0.37       112\n",
      "\n",
      "    accuracy                           0.99     56962\n",
      "   macro avg       0.62      0.94      0.68     56962\n",
      "weighted avg       1.00      0.99      1.00     56962\n",
      "\n"
     ]
    }
   ],
   "source": [
    "xgboost_sm=xgb.XGBClassifier(tree_method='gpu_hist')\n",
    "xgboost_sm.fit(sm_x_train,sm_y_train)\n",
    "y_pred=xgboost_sm.predict(x_test)\n",
    "model_report(y_test, y_pred)"
   ]
  },
  {
   "cell_type": "markdown",
   "metadata": {
    "id": "CRsclD5_pNND"
   },
   "source": [
    "**Random Forest  performed better than XGBoost!**"
   ]
  },
  {
   "cell_type": "markdown",
   "metadata": {
    "id": "f9QhDT02dABF"
   },
   "source": [
    "<h1>Neural Networks</h1>"
   ]
  },
  {
   "cell_type": "code",
   "execution_count": 79,
   "metadata": {
    "id": "PqlmxJvXaogX"
   },
   "outputs": [],
   "source": [
    "model=tf.keras.Sequential([\n",
    "   layers.Dense(units=64,activation=tf.nn.relu,input_dim=x_train.shape[1]),\n",
    "   layers.Dense(32,activation=tf.nn.relu),\n",
    "   layers.Dense(1,activation=tf.nn.sigmoid)\n",
    "  ])\n",
    "optimizer=tf.keras.optimizers.Adam(0.0001)\n",
    "model.compile(optimizer=optimizer,loss='binary_crossentropy',metrics=['AUC'])"
   ]
  },
  {
   "cell_type": "code",
   "execution_count": 80,
   "metadata": {
    "colab": {
     "base_uri": "https://localhost:8080/"
    },
    "id": "0BUmfBoKaoLD",
    "outputId": "01ed305a-e1f7-4a60-8dea-13431d7c4200"
   },
   "outputs": [
    {
     "name": "stdout",
     "output_type": "stream",
     "text": [
      "Epoch 1/25\n",
      "1781/1781 [==============================] - 7s 4ms/step - loss: 0.0818 - auc: 0.5036 - val_loss: 0.0101 - val_auc: 0.8607\n",
      "Epoch 2/25\n",
      "1781/1781 [==============================] - 7s 4ms/step - loss: 0.0066 - auc: 0.8910 - val_loss: 0.0053 - val_auc: 0.9126\n",
      "Epoch 3/25\n",
      "1781/1781 [==============================] - 7s 4ms/step - loss: 0.0043 - auc: 0.9230 - val_loss: 0.0040 - val_auc: 0.9357\n",
      "Epoch 4/25\n",
      "1781/1781 [==============================] - 7s 4ms/step - loss: 0.0035 - auc: 0.9395 - val_loss: 0.0034 - val_auc: 0.9496\n",
      "Epoch 5/25\n",
      "1781/1781 [==============================] - 7s 4ms/step - loss: 0.0031 - auc: 0.9477 - val_loss: 0.0032 - val_auc: 0.9543\n",
      "Epoch 6/25\n",
      "1781/1781 [==============================] - 7s 4ms/step - loss: 0.0029 - auc: 0.9505 - val_loss: 0.0031 - val_auc: 0.9500\n",
      "Epoch 7/25\n",
      "1781/1781 [==============================] - 7s 4ms/step - loss: 0.0028 - auc: 0.9519 - val_loss: 0.0031 - val_auc: 0.9544\n",
      "Epoch 8/25\n",
      "1781/1781 [==============================] - 7s 4ms/step - loss: 0.0027 - auc: 0.9559 - val_loss: 0.0030 - val_auc: 0.9544\n",
      "Epoch 9/25\n",
      "1781/1781 [==============================] - 7s 4ms/step - loss: 0.0026 - auc: 0.9560 - val_loss: 0.0030 - val_auc: 0.9545\n",
      "Epoch 10/25\n",
      "1781/1781 [==============================] - 7s 4ms/step - loss: 0.0025 - auc: 0.9586 - val_loss: 0.0030 - val_auc: 0.9547\n",
      "Epoch 11/25\n",
      "1781/1781 [==============================] - 7s 4ms/step - loss: 0.0024 - auc: 0.9574 - val_loss: 0.0029 - val_auc: 0.9546\n",
      "Epoch 12/25\n",
      "1781/1781 [==============================] - 7s 4ms/step - loss: 0.0023 - auc: 0.9587 - val_loss: 0.0029 - val_auc: 0.9546\n",
      "Epoch 13/25\n",
      "1781/1781 [==============================] - 7s 4ms/step - loss: 0.0022 - auc: 0.9601 - val_loss: 0.0029 - val_auc: 0.9503\n",
      "Epoch 14/25\n",
      "1781/1781 [==============================] - 7s 4ms/step - loss: 0.0022 - auc: 0.9601 - val_loss: 0.0028 - val_auc: 0.9502\n",
      "Epoch 15/25\n",
      "1781/1781 [==============================] - 7s 4ms/step - loss: 0.0021 - auc: 0.9601 - val_loss: 0.0028 - val_auc: 0.9458\n",
      "Epoch 16/25\n",
      "1781/1781 [==============================] - 7s 4ms/step - loss: 0.0021 - auc: 0.9614 - val_loss: 0.0028 - val_auc: 0.9371\n",
      "Epoch 17/25\n",
      "1781/1781 [==============================] - 7s 4ms/step - loss: 0.0021 - auc: 0.9628 - val_loss: 0.0028 - val_auc: 0.9415\n",
      "Epoch 18/25\n",
      "1781/1781 [==============================] - 7s 4ms/step - loss: 0.0020 - auc: 0.9641 - val_loss: 0.0027 - val_auc: 0.9458\n",
      "Epoch 19/25\n",
      "1781/1781 [==============================] - 7s 4ms/step - loss: 0.0020 - auc: 0.9628 - val_loss: 0.0028 - val_auc: 0.9459\n",
      "Epoch 20/25\n",
      "1781/1781 [==============================] - 7s 4ms/step - loss: 0.0019 - auc: 0.9654 - val_loss: 0.0027 - val_auc: 0.9502\n",
      "Epoch 21/25\n",
      "1781/1781 [==============================] - 7s 4ms/step - loss: 0.0019 - auc: 0.9667 - val_loss: 0.0028 - val_auc: 0.9371\n",
      "Epoch 22/25\n",
      "1781/1781 [==============================] - 7s 4ms/step - loss: 0.0018 - auc: 0.9668 - val_loss: 0.0027 - val_auc: 0.9415\n",
      "Epoch 23/25\n",
      "1781/1781 [==============================] - 7s 4ms/step - loss: 0.0018 - auc: 0.9668 - val_loss: 0.0027 - val_auc: 0.9503\n",
      "Epoch 24/25\n",
      "1781/1781 [==============================] - 7s 4ms/step - loss: 0.0018 - auc: 0.9694 - val_loss: 0.0027 - val_auc: 0.9415\n",
      "Epoch 25/25\n",
      "1781/1781 [==============================] - 7s 4ms/step - loss: 0.0017 - auc: 0.9694 - val_loss: 0.0027 - val_auc: 0.9547\n"
     ]
    }
   ],
   "source": [
    "history=model.fit(x_train,y_train,batch_size=128,epochs=25,validation_data=(x_test,y_test))"
   ]
  },
  {
   "cell_type": "code",
   "execution_count": 84,
   "metadata": {
    "colab": {
     "base_uri": "https://localhost:8080/",
     "height": 573
    },
    "id": "MI5qojsVbHRb",
    "outputId": "7d8129d0-c5c4-4fc0-baf0-e0d3fc0aa1f9"
   },
   "outputs": [
    {
     "data": {
      "image/png": "[encoded data removed]",
      "text/plain": [
       "<Figure size 432x288 with 1 Axes>"
      ]
     },
     "metadata": {
      "tags": []
     },
     "output_type": "display_data"
    },
    {
     "data": {
      "image/png": "[encoded data removed]",
      "text/plain": [
       "<Figure size 432x288 with 1 Axes>"
      ]
     },
     "metadata": {
      "tags": []
     },
     "output_type": "display_data"
    }
   ],
   "source": [
    "auc=history.history['auc']\n",
    "val_auc=history.history['val_auc']\n",
    "loss=history.history['loss']\n",
    "val_loss=history.history['val_loss']\n",
    "epochs=range(len(loss))\n",
    "\n",
    "#ploting training and validation loss\n",
    "plt.plot(epochs,loss,label='Training Loss')\n",
    "plt.plot(epochs,val_loss,label='Validation Loss')\n",
    "plt.title('Training and Validation Loss')\n",
    "plt.xlabel('Epochs')\n",
    "plt.yscale('log')\n",
    "plt.legend()\n",
    "plt.show()\n",
    "\n",
    "#ploting training and validation AUC Score\n",
    "plt.plot(epochs,auc,label='Training AUC SCore')\n",
    "plt.plot(epochs,val_auc,label='Validation Auc SCore')\n",
    "plt.title('Training and Validation AUC Score')\n",
    "plt.xlabel('Epochs')\n",
    "# plt.yscale('log')\n",
    "plt.legend()\n",
    "plt.show()"
   ]
  },
  {
   "cell_type": "code",
   "execution_count": 83,
   "metadata": {
    "colab": {
     "base_uri": "https://localhost:8080/"
    },
    "id": "R3QPtkuObSIF",
    "outputId": "9333b187-e53b-4cc4-ae66-0e74fbc484db"
   },
   "outputs": [
    {
     "name": "stdout",
     "output_type": "stream",
     "text": [
      "----Confusion matrix---- \n",
      " \n",
      "[[56841     9]\n",
      " [   21    91]]\n",
      "\n",
      "----Accuracy score:0.9994733330992591\n",
      "\n",
      "Area under curve: 0.9061708443271768\n",
      "\n",
      "              precision    recall  f1-score   support\n",
      "\n",
      "           0       1.00      1.00      1.00     56850\n",
      "           1       0.91      0.81      0.86       112\n",
      "\n",
      "    accuracy                           1.00     56962\n",
      "   macro avg       0.95      0.91      0.93     56962\n",
      "weighted avg       1.00      1.00      1.00     56962\n",
      "\n"
     ]
    }
   ],
   "source": [
    "y_pred=model.predict_classes(x_test)\n",
    "model_report(y_test,y_pred)"
   ]
  },
  {
   "cell_type": "markdown",
   "metadata": {
    "id": "P0iKrnATgGPT"
   },
   "source": [
    "**Neural Network also performed similar to Random Forest which is not an Improvement!**"
   ]
  }
 ],
 "metadata": {
  "accelerator": "GPU",
  "colab": {
   "collapsed_sections": [],
   "name": "Credit Card Farud Detection.ipynb",
   "provenance": []
  },
  "kernelspec": {
   "display_name": "Python 3",
   "language": "python",
   "name": "python3"
  },
  "language_info": {
   "codemirror_mode": {
    "name": "ipython",
    "version": 3
   },
   "file_extension": ".py",
   "mimetype": "text/x-python",
   "name": "python",
   "nbconvert_exporter": "python",
   "pygments_lexer": "ipython3",
   "version": "3.7.6"
  }
 },
 "nbformat": 4,
 "nbformat_minor": 1
}
